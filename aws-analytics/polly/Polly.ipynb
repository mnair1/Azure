{
 "cells": [
  {
   "cell_type": "code",
   "execution_count": null,
   "metadata": {},
   "outputs": [],
   "source": [
    "# ------------------------------------------------------------------------------------------------------------------\n",
    "# Amazon Polly is a service that turns text into lifelike speech, allowing you to create \n",
    "# applications that talk, and build entirely new categories of speech-enabled products. Amazon Polly is a \n",
    "# Text-to-Speech service that uses advanced deep learning technologies to synthesize speech that sounds like \n",
    "# a human voice.\n",
    "# Lets see how to use this Text-to-Speech service.\n",
    "# ------------------------------------------------------------------------------------------------------------------"
   ]
  },
  {
   "cell_type": "code",
   "execution_count": null,
   "metadata": {},
   "outputs": [],
   "source": [
    "# -------------------------------------------------------------------------\n",
    "# Import Python Libraries. Press run. \n",
    "# -------------------------------------------------------------------------\n",
    "\n",
    "import boto3\n",
    "import requests\n",
    "import uuid"
   ]
  },
  {
   "cell_type": "code",
   "execution_count": null,
   "metadata": {},
   "outputs": [],
   "source": [
    "# -------------------------------------------------------------------------------------\n",
    "# Create the boto3 client for accessing Polly API's, Press run.\n",
    "# -------------------------------------------------------------------------------------\n",
    "\n",
    "client = boto3.client('polly', region_name='us-east-1')\n",
    "s3client = boto3.client('s3', region_name='us-east-1')\n",
    "s3 = boto3.resource('s3')"
   ]
  },
  {
   "cell_type": "code",
   "execution_count": null,
   "metadata": {},
   "outputs": [],
   "source": [
    "# --------------------------------------------------------------------------------------\n",
    "# Let's start by creating a Python funtion that can be used to perform the conversion\n",
    "# and save the audio file to S3. Note that we are using the mp3 format for audio files.\n",
    "# Press run.\n",
    "# --------------------------------------------------------------------------------------"
   ]
  },
  {
   "cell_type": "code",
   "execution_count": null,
   "metadata": {},
   "outputs": [],
   "source": [
    "def convert_text_to_sound(text, voice, output_format, audio_file):\n",
    "    object = s3.Object('ai-operations-111', audio_file)\n",
    "    response = client.synthesize_speech(Text=text, VoiceId=voice, OutputFormat=output_format)\n",
    "    body=response['AudioStream'].read()\n",
    "    object.put(Body=body)"
   ]
  },
  {
   "cell_type": "code",
   "execution_count": null,
   "metadata": {},
   "outputs": [],
   "source": [
    "# --------------------------------------------------------------------------------------\n",
    "# Let's perform a simple Text-to-Speech conversion using a female voice. Press run.\n",
    "# --------------------------------------------------------------------------------------"
   ]
  },
  {
   "cell_type": "code",
   "execution_count": null,
   "metadata": {},
   "outputs": [],
   "source": [
    "audio_file='polly/Joanna.mp3'\n",
    "object = s3.Object('ai-operations-111', audio_file)\n",
    "\n",
    "text='This is a test of polly in female voice'\n",
    "voice='Joanna'\n",
    "output_format='mp3'\n",
    "\n",
    "convert_text_to_sound(text, voice, output_format, audio_file)"
   ]
  },
  {
   "cell_type": "code",
   "execution_count": null,
   "metadata": {},
   "outputs": [],
   "source": [
    "# --------------------------------------------------------------------------------------\n",
    "# Now we can listen to the audio file after downloading from S3. Move to next cell after \n",
    "# you have been able to download and listen to the audio file. \n",
    "# --------------------------------------------------------------------------------------"
   ]
  },
  {
   "cell_type": "code",
   "execution_count": null,
   "metadata": {},
   "outputs": [],
   "source": [
    "# --------------------------------------------------------------------------------------\n",
    "# Now we can perform another test but this time using a Male voice. Highlight next cell \n",
    "# and Press run.\n",
    "# --------------------------------------------------------------------------------------"
   ]
  },
  {
   "cell_type": "code",
   "execution_count": null,
   "metadata": {},
   "outputs": [],
   "source": [
    "audio_file='polly/Matthew.mp3'\n",
    "object = s3.Object('ai-operations-111', audio_file)\n",
    "\n",
    "text='This is a test of polly in male voice'\n",
    "voice='Matthew'\n",
    "output_format='mp3'\n",
    "\n",
    "convert_text_to_sound(text, voice, output_format, audio_file)"
   ]
  },
  {
   "cell_type": "code",
   "execution_count": null,
   "metadata": {},
   "outputs": [],
   "source": [
    "# --------------------------------------------------------------------------------------\n",
    "# Now we can listen to the audio file after downloading from S3. Move to next cell after \n",
    "# you have been able to download and listen to the audio file. \n",
    "# --------------------------------------------------------------------------------------"
   ]
  },
  {
   "cell_type": "code",
   "execution_count": null,
   "metadata": {},
   "outputs": [],
   "source": [
    "# --------------------------------------------------------------------------------------------------------\n",
    "# We can also use the the SSML-enhanced input text feature with Polly. SSML-enhanced input \n",
    "# text gives you additional control over how Amazon Polly generates speech from the text you provide.\n",
    "# For example, you can include a long pause within your text, or change the speech rate or pitch. \n",
    "# --------------------------------------------------------------------------------------------------------"
   ]
  },
  {
   "cell_type": "code",
   "execution_count": null,
   "metadata": {},
   "outputs": [],
   "source": [
    "audio_file='polly/Kendra.mp3'\n",
    "object = s3.Object('ai-operations-111', audio_file)\n",
    "\n",
    "ssml_text = '''\n",
    "<speak>\n",
    "I really want to share something with you.\n",
    "<break time=\"1s\" />\n",
    "<amazon:effect name=\"whispered\">You are looking gorgeous today!</amazon:effect>\n",
    "</speak>\n",
    "'''\n",
    "response = client.synthesize_speech(OutputFormat='mp3', VoiceId='Kendra',TextType='ssml', Text=ssml_text)\n",
    "body=response['AudioStream'].read()\n",
    "object.put(Body=body)"
   ]
  },
  {
   "cell_type": "code",
   "execution_count": null,
   "metadata": {},
   "outputs": [],
   "source": [
    "# ----------------------------------------------------------------------------------------------------------\n",
    "# The possibilities with Polly are exciting. Mpre and more organizations are finding new ways to use this \n",
    "# technology to their advantage. I hope you found this information both informative and useful. Amazon \n",
    "# Polly is covered in more detail in the AWS Big Data Specialty training. \n",
    "# ----------------------------------------------------------------------------------------------------------"
   ]
  }
 ],
 "metadata": {
  "kernelspec": {
   "display_name": "Sparkmagic (PySpark)",
   "language": "",
   "name": "pysparkkernel"
  },
  "language_info": {
   "codemirror_mode": {
    "name": "python",
    "version": 2
   },
   "mimetype": "text/x-python",
   "name": "pyspark",
   "pygments_lexer": "python2"
  }
 },
 "nbformat": 4,
 "nbformat_minor": 2
}
