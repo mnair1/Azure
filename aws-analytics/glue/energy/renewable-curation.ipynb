{
 "cells": [
  {
   "cell_type": "code",
   "execution_count": 1,
   "metadata": {},
   "outputs": [
    {
     "name": "stdout",
     "output_type": "stream",
     "text": [
      "Starting Spark application\n"
     ]
    },
    {
     "data": {
      "text/html": [
       "<table>\n",
       "<tr><th>ID</th><th>YARN Application ID</th><th>Kind</th><th>State</th><th>Spark UI</th><th>Driver log</th><th>Current session?</th></tr><tr><td>0</td><td>application_1596810585624_0001</td><td>pyspark</td><td>idle</td><td><a target=\"_blank\" href=\"http://ip-172-32-41-124.ec2.internal:20888/proxy/application_1596810585624_0001/\">Link</a></td><td><a target=\"_blank\" href=\"http://ip-172-32-56-164.ec2.internal:8042/node/containerlogs/container_1596810585624_0001_01_000001/livy\">Link</a></td><td>✔</td></tr></table>"
      ],
      "text/plain": [
       "<IPython.core.display.HTML object>"
      ]
     },
     "metadata": {},
     "output_type": "display_data"
    },
    {
     "data": {
      "application/vnd.jupyter.widget-view+json": {
       "model_id": "",
       "version_major": 2,
       "version_minor": 0
      },
      "text/plain": [
       "FloatProgress(value=0.0, bar_style='info', description='Progress:', layout=Layout(height='25px', width='50%'),…"
      ]
     },
     "metadata": {},
     "output_type": "display_data"
    },
    {
     "name": "stdout",
     "output_type": "stream",
     "text": [
      "SparkSession available as 'spark'.\n"
     ]
    },
    {
     "data": {
      "application/vnd.jupyter.widget-view+json": {
       "model_id": "",
       "version_major": 2,
       "version_minor": 0
      },
      "text/plain": [
       "FloatProgress(value=0.0, bar_style='info', description='Progress:', layout=Layout(height='25px', width='50%'),…"
      ]
     },
     "metadata": {},
     "output_type": "display_data"
    }
   ],
   "source": [
    "# -------------------------------------------------------------------------\n",
    "# MODIFY WITH CARE\n",
    "# Standard libraries to be used in AWS Glue jobs\n",
    "# -------------------------------------------------------------------------\n",
    "\n",
    "import sys\n",
    "from pyspark.context import SparkContext\n",
    "from pyspark.sql.session import SparkSession\n",
    "from pyspark.sql import functions as f\n",
    "from pyspark.sql.types import *\n",
    "from pyspark.sql.types import StructType, StructField, IntegerType, StringType, array, ArrayType, DateType\n",
    "from pyspark.sql import Row, Column\n",
    "import datetime\n",
    "import json\n",
    "import boto3\n",
    "import logging\n",
    "import calendar\n",
    "import uuid\n",
    "import time\n",
    "from dateutil import relativedelta\n",
    "from datetime import timedelta\n",
    "import argparse"
   ]
  },
  {
   "cell_type": "code",
   "execution_count": 4,
   "metadata": {},
   "outputs": [
    {
     "data": {
      "application/vnd.jupyter.widget-view+json": {
       "model_id": "",
       "version_major": 2,
       "version_minor": 0
      },
      "text/plain": [
       "FloatProgress(value=0.0, bar_style='info', description='Progress:', layout=Layout(height='25px', width='50%'),…"
      ]
     },
     "metadata": {},
     "output_type": "display_data"
    }
   ],
   "source": [
    "def read_s3_file(spark, type, path, delimiter='|', header='true', rowTag='placeholder', flatten=True, schema=''):\n",
    "    '''\n",
    "    function: read_s3_file\n",
    "    description: Reads file of either CSV or XML format from S3.\n",
    "\n",
    "    Args:\n",
    "        spark: Spark session object.\n",
    "        type: Format of the file. It can be either CSV or XML.\n",
    "        path: Path of the file on S3.\n",
    "        delimiter: Delimiter used in the file. (Applicable on CSV files only)\n",
    "        header: If the CSV file has header or not. (Applicable on CSV files only)\n",
    "        rowTag: Tag by which rows are defined in XML file. (Applicable on XML files only)\n",
    "        flatten: If the XML hierarchy should be flatten or not.\n",
    "\n",
    "    returns:\n",
    "        spark.sql.dataframe: Returns a object of Spark Dataframe containing data of the read file from S3.\n",
    "\n",
    "    Note:\n",
    "        Format 'com.databricks.spark.xml' requires 'spark-xml_2.11-0.4.1.jar' file in JAR dependencies.\n",
    "    '''\n",
    "    if (type == 'CSV'):\n",
    "        return spark.read.format(\"com.databricks.spark.csv\").option(\"schema\", schema).option(\"header\", header).option(\"delimiter\", delimiter).load(path)\n",
    "    if (type == 'XML'):\n",
    "        return spark.read.format('com.databricks.spark.xml').option('rowTag', rowTag).load(path)\n",
    "    if (type == 'PARQUET'):\n",
    "        return spark.read.parquet(path)\n",
    "    \n",
    "def write_s3_file(df, table_location, table, partition=None, uid=None, format='PARQUET', delimiter='\\t', coalesce=1, header=False):\n",
    "    '''\n",
    "    function: write_s3_file\n",
    "    description: Write a file of either Parquet or CSV format to S3.\n",
    "\n",
    "    Args:\n",
    "        df: spark.sql.dataframe to be written to S3.\n",
    "        table_location: Location of where the file should be stored.\n",
    "        table: Name of the table.\n",
    "        partition: Date by which the file should be stored in S3.\n",
    "        format: Format in which the file should be stored. (PARQUET is default)\n",
    "        delimited: How to file should be delimited. (Applicable on CSV files only)\n",
    "        coalesce: Number of spark.sql.dataframe partitions.\n",
    "    '''\n",
    "    try:\n",
    "        if format == 'PARQUET':\n",
    "            if uid is None:\n",
    "                df.write.parquet(table_location+'/'+table+'/'+partition)\n",
    "            else:\n",
    "                df.write.parquet(table_location+'/'+table+'/'+uid+'/'+partition)\n",
    "        if format == 'CSV':\n",
    "            if partition is None:\n",
    "                df.coalesce(coalesce).write.option(\"delimiter\", delimiter).option(\"header\", \"true\").option(\"quoteAll\", \"true\").option(\"quote\", \"\\\"\").csv(table_location+ '/' + uid + '/' + table)\n",
    "            elif uid is None:\n",
    "                df.coalesce(coalesce).write.option(\"delimiter\", delimiter).option(\"quote\", \"\\\"\").option(\"quoteAll\", \"true\").csv(table_location +'/' + partition)\n",
    "            else:\n",
    "                df.coalesce(coalesce).write.option(\"delimiter\", delimiter).option(\"quote\", \"\\\"\").option(\"quoteAll\", \"true\").csv(table_location +'/' + uid + '/' + partition)\n",
    "    except Exception as e:\n",
    "        raise Exception(e)\n",
    "\n",
    "\n",
    "def append_path_to_list(list, location, table_name):\n",
    "    list.append({'Path': location + '/' + table_name})\n",
    "    \n",
    "def update_crawler(client, crawler_name, s3targets):\n",
    "    client.update_crawler(\n",
    "        Name=crawler_name,\n",
    "        Targets = {'S3Targets':s3targets}\n",
    "            \n",
    "    )\n",
    "    \n",
    "def start_crawler(client, crawler_name):\n",
    "    print(crawler_name + ' started.')\n",
    "    \n",
    "    # Getting PRE-RUN READY status.\n",
    "    while(True):\n",
    "        time.sleep(1)\n",
    "        response = client.get_crawler(\n",
    "                        Name=crawler_name\n",
    "                   )\n",
    "        \n",
    "        if response['Crawler']['State'] == 'READY':\n",
    "            print(response['Crawler']['State'])\n",
    "            break\n",
    "            \n",
    "    client.start_crawler(\n",
    "        Name=crawler_name\n",
    "    )\n",
    "    \n",
    "    # Getting RUNNING status for stdout.            \n",
    "    while(True):\n",
    "        time.sleep(15)\n",
    "        response = client.get_crawler(\n",
    "                        Name=crawler_name\n",
    "                   )\n",
    "        \n",
    "        if response['Crawler']['State'] == 'RUNNING':\n",
    "            print(response['Crawler']['State'])\n",
    "            break\n",
    "        \n",
    "    # Getting STOPPING status for stdout.\n",
    "    while(True):\n",
    "        time.sleep(1)\n",
    "        response = client.get_crawler(\n",
    "                        Name=crawler_name\n",
    "                   )\n",
    "        \n",
    "        if response['Crawler']['State'] == 'STOPPING':\n",
    "            print(response['Crawler']['State'])\n",
    "            break\n",
    "    \n",
    "   # Getting READY status.\n",
    "    while(True):\n",
    "        time.sleep(1)\n",
    "        response = client.get_crawler(\n",
    "                        Name=crawler_name\n",
    "                   )\n",
    "        \n",
    "        if response['Crawler']['State'] == 'READY':\n",
    "            print(response['Crawler']['State'])\n",
    "            break\n",
    "\n",
    "def delete_crawler(client, crawler_name):\n",
    "    # Getting READY status before deleting making sure it won't delete a running crawler.\n",
    "    while(True):\n",
    "        time.sleep(1)\n",
    "        response = client.get_crawler(\n",
    "                        Name=crawler_name\n",
    "                   )\n",
    "        \n",
    "        if response['Crawler']['State'] == 'READY':\n",
    "            print(response['Crawler']['State'])\n",
    "            break\n",
    "    \n",
    "    client.delete_crawler(\n",
    "        Name=crawler_name\n",
    "    )\n",
    "    \n",
    "    print(crawler_name + ' deleted.')\n",
    "\n",
    "def append_log(log, logdate, id, message):\n",
    "    '''\n",
    "    function: append_log\n",
    "    description: Appends to the log.\n",
    "\n",
    "    Args:\n",
    "        log: spark.sql.dataframe of logs.\n",
    "        logdate: Date on which the log was created.\n",
    "        id: Id to identify the logs.\n",
    "        message: Message of the log.\n",
    "\n",
    "    returns:\n",
    "        spark.sql.dataframe: Returns a dataframe containing newly appended log.\n",
    "    '''\n",
    "    return log.append(Row(logdate,id, message))\n",
    "\n",
    "def delete_catalog_table(client, database, table):\n",
    "    try:\n",
    "        response = client.delete_table(DatabaseName=database,Name=table)\n",
    "    except Exception as e:\n",
    "        print(table+' does not exist in glue catalog')\n",
    "\n",
    "def job_notification_sns(region_name, log_bucket, job_log_dir, partition, sns_arn):\n",
    "    '''\n",
    "    function: format_log_date\n",
    "    description: Returns current timestamp (date and time) for logs in Amazon Athena format.\n",
    "\n",
    "    Args:\n",
    "        region_name: AWS Region in which the SNS and S3.\n",
    "        log_bucket: Name of the log bucket.\n",
    "        job_log_dir: Folder in which the logs will be placed.\n",
    "        partition: Folder (named as date of log creation) by which the logs will be partitioned.\n",
    "        sns_arn: ARN of SNS topic to which the notificaions is to be published.\n",
    "    '''\n",
    "\n",
    "    sns = boto3.client('sns', region_name=region_name)\n",
    "    s3 = boto3.client('s3' , region_name=region_name)\n",
    "    s3r = boto3.resource('s3' , region_name=region_name)\n",
    "\n",
    "    response = s3.list_objects(Bucket = log_bucket, Prefix = job_log_dir+'/'+partition)\n",
    "    \n",
    "\n",
    "def does_s3key_exist(bucket, key, ext):\n",
    "    s3 = boto3.resource('s3')\n",
    "    bucket = s3.Bucket(bucket)\n",
    "    objects = bucket.objects.all()\n",
    "    FOUND=0\n",
    "    for object in objects:\n",
    "        if object.key.startswith(key) and object.key.endswith(ext):\n",
    "            FOUND=1\n",
    "    return FOUND"
   ]
  },
  {
   "cell_type": "code",
   "execution_count": 8,
   "metadata": {},
   "outputs": [
    {
     "data": {
      "application/vnd.jupyter.widget-view+json": {
       "model_id": "",
       "version_major": 2,
       "version_minor": 0
      },
      "text/plain": [
       "FloatProgress(value=0.0, bar_style='info', description='Progress:', layout=Layout(height='25px', width='50%'),…"
      ]
     },
     "metadata": {},
     "output_type": "display_data"
    },
    {
     "name": "stdout",
     "output_type": "stream",
     "text": [
      "exists"
     ]
    }
   ],
   "source": [
    "if does_s3key_exist(RAW_BUCKET, RAW_TAB_PREFIX+'hydropower-consumption/'+get_partition(), '') == 1:\n",
    "    print(\"exists\")\n",
    "else:\n",
    "    print(\" not exists\")"
   ]
  },
  {
   "cell_type": "code",
   "execution_count": 10,
   "metadata": {},
   "outputs": [
    {
     "data": {
      "application/vnd.jupyter.widget-view+json": {
       "model_id": "",
       "version_major": 2,
       "version_minor": 0
      },
      "text/plain": [
       "FloatProgress(value=0.0, bar_style='info', description='Progress:', layout=Layout(height='25px', width='50%'),…"
      ]
     },
     "metadata": {},
     "output_type": "display_data"
    }
   ],
   "source": [
    "\n",
    "# -------------------------------------------------------------------------\n",
    "#   Turn DEBUG ON if temporary tables are desired. DEBUG creates additional temporary tables for every step in the script.\n",
    "#    DEBUG: If 'True', the script will store all dataframes, including the temporary ones.\n",
    "#    INTERACTIVE: Set 'True' for Jupyter Notebook.\n",
    "#                 Set 'False' for AWS Glue ETL job.\n",
    "# -------------------------------------------------------------------------\n",
    "\n",
    "INTERACTIVE=True\n",
    "DEBUG=True  \n",
    "\n",
    "if INTERACTIVE:\n",
    "    JOB_DATE='2020-08-06'\n",
    "    from awsglue.context import GlueContext\n",
	"    glueContext = GlueContext(sc)\n",
    "else:\n",
    "    parser = argparse.ArgumentParser()\n",
    "    parser.add_argument('--JOB_DATE', dest='JOB_DATE')\n",
    "    args = parser.parse_args()\n",
    "    print(args)\n",
    "    JOB_DATE=args.JOB_DATE\n",
    "\n",
    "# -------------------------------------------------------------------------\n",
    "# MODIFY AS PER JOB\n",
    "#    These are the variables that drive the whole job.\n",
    "#    Modify each variable for each job accordingly.\n",
    "# -------------------------------------------------------------------------\n",
    "\n",
    "# Variables for GLue Tables\n",
    "JOB_NAME='renewable-curation'\n",
    "REGION_NAME='us-east-1'\n",
    "UID=uuid.uuid4().hex\n",
    "PARTITION='dt='+JOB_DATE\n",
    "\n",
    "def get_partition():\n",
    "    return JOB_DATE\n",
    "\n",
    "# Variables for RAW Table Location on S3 and Glue Catalog Database\n",
    "CATALOG_DATABASE='renewable'\n",
    "RAW_DATABASE='renewable'\n",
    "RAW_BUCKET='aws-analytics-course'\n",
    "RAW_TAB_PREFIX='raw/files/renewable/'\n",
    "RAW_TAB_LOCATION='s3://'+RAW_BUCKET+'/'+RAW_TAB_PREFIX\n",
    "\n",
    "# Variables for Curated Table Location on S3 and Glue Catalog Database\n",
    "CURATED_BUCKET='aws-analytics-course'\n",
    "CURATED_TAB_LOCATION= 's3://'+RAW_BUCKET+'/curated/renewable'\n",
    "\n",
    "# Variables for crawler.\n",
    "CRAWLER_NAME=JOB_NAME+'_'+UID\n",
    "CRAWLER_ARN='arn:aws:iam::175908995626:role/glue-role'"
   ]
  },
  {
   "cell_type": "code",
   "execution_count": 11,
   "metadata": {},
   "outputs": [
    {
     "data": {
      "application/vnd.jupyter.widget-view+json": {
       "model_id": "",
       "version_major": 2,
       "version_minor": 0
      },
      "text/plain": [
       "FloatProgress(value=0.0, bar_style='info', description='Progress:', layout=Layout(height='25px', width='50%'),…"
      ]
     },
     "metadata": {},
     "output_type": "display_data"
    }
   ],
   "source": [
    "# -------------------------------------------------------------------------\n",
    "# MODIFY WITH CARE\n",
    "# -------------------------------------------------------------------------\n",
    "\n",
    "sc = SparkContext.getOrCreate()\n",
    "log = []\n",
    "s3pathlist=[]\n",
    "\n",
    "if not INTERACTIVE:\n",
    "    spark = SparkSession(sc)\n",
    "    \n",
    "client = boto3.client('glue', region_name=REGION_NAME)"
   ]
  },
  {
   "cell_type": "code",
   "execution_count": 12,
   "metadata": {},
   "outputs": [
    {
     "data": {
      "application/vnd.jupyter.widget-view+json": {
       "model_id": "",
       "version_major": 2,
       "version_minor": 0
      },
      "text/plain": [
       "FloatProgress(value=0.0, bar_style='info', description='Progress:', layout=Layout(height='25px', width='50%'),…"
      ]
     },
     "metadata": {},
     "output_type": "display_data"
    }
   ],
   "source": [
    "if does_s3key_exist(RAW_BUCKET, RAW_TAB_PREFIX+'hydropower-consumption/'+get_partition(), '') == 1:\n",
    "    hydropower_consumption_df=spark.read.csv(RAW_TAB_LOCATION+'hydropower-consumption/'+get_partition(), header=True)\n",
    "    hydropower_consumption_df=hydropower_consumption_df.withColumnRenamed(\"Hydropower (Terawatt-hours)\",'consumption') \\\n",
    "                                                   .withColumn('Year', f.col('Year').cast(IntegerType())) \\\n",
    "                                                   .withColumn('consumption', f.col('consumption').cast(FloatType()))\n",
    "    write_s3_file(hydropower_consumption_df, CURATED_TAB_LOCATION, 'hydropower_consumption', PARTITION, uid=None)\n",
    "    append_path_to_list(s3pathlist, CURATED_TAB_LOCATION, 'hydropower_consumption') \n",
    "    #print(s3pathlist)\n",
    "    #hydropower_consumption_df.printSchema()\n",
    "    #hydropower_consumption_df.show(5)"
   ]
  },
  {
   "cell_type": "code",
   "execution_count": 13,
   "metadata": {},
   "outputs": [
    {
     "data": {
      "application/vnd.jupyter.widget-view+json": {
       "model_id": "",
       "version_major": 2,
       "version_minor": 0
      },
      "text/plain": [
       "FloatProgress(value=0.0, bar_style='info', description='Progress:', layout=Layout(height='25px', width='50%'),…"
      ]
     },
     "metadata": {},
     "output_type": "display_data"
    }
   ],
   "source": [
    "if does_s3key_exist(RAW_BUCKET, RAW_TAB_PREFIX+'renewable-energy-consumption/'+get_partition(), '') == 1:\n",
    "    renewable_energy_consumption_df=spark.read.csv(RAW_TAB_LOCATION+'renewable-energy-consumption/'+get_partition(), header=True)\n",
    "    renewable_energy_consumption_df=renewable_energy_consumption_df \\\n",
    "          .withColumnRenamed(\"Other renewables (modern biofuels, geothermal, wave & tidal) (terawatt-hours)\",'Other_renewables') \\\n",
    "          .withColumnRenamed(\"Traditional biofuels (terrawatt-hours)\",'Traditional_biofuels') \\\n",
    "          .withColumnRenamed(\"Wind (Terawatt-hours)\",'Wind') \\\n",
    "          .withColumnRenamed(\"Solar PV (Terawatt-hours)\",'Solar') \\\n",
    "          .withColumnRenamed(\"Hydropower (TWh)\",'Hydropower') \\\n",
    "          .withColumn('Year', f.col('Year').cast(IntegerType())) \\\n",
    "          .withColumn('Traditional_biofuels', f.col('Traditional_biofuels').cast(FloatType())) \\\n",
    "          .withColumn('Other_renewables', f.col('Other_renewables').cast(FloatType())) \\\n",
    "          .withColumn('Wind', f.col('Wind').cast(FloatType())) \\\n",
    "          .withColumn('Solar', f.col('Solar').cast(FloatType())) \\\n",
    "          .withColumn('Hydropower', f.col('Hydropower').cast(FloatType())) \n",
    "\n",
    "    write_s3_file(renewable_energy_consumption_df, CURATED_TAB_LOCATION, 'renewable_energy_consumption', PARTITION, uid=None)\n",
    "    append_path_to_list(s3pathlist, CURATED_TAB_LOCATION, 'renewable_energy_consumption') \n",
    "    #print(s3pathlist)\n",
    "    #renewable_energy_consumption_df.printSchema()\n",
    "    #renewable_energy_consumption_df.show(5)"
   ]
  },
  {
   "cell_type": "code",
   "execution_count": 14,
   "metadata": {},
   "outputs": [
    {
     "data": {
      "application/vnd.jupyter.widget-view+json": {
       "model_id": "",
       "version_major": 2,
       "version_minor": 0
      },
      "text/plain": [
       "FloatProgress(value=0.0, bar_style='info', description='Progress:', layout=Layout(height='25px', width='50%'),…"
      ]
     },
     "metadata": {},
     "output_type": "display_data"
    }
   ],
   "source": [
    "if does_s3key_exist(RAW_BUCKET, RAW_TAB_PREFIX+'solar-energy-consumption/'+get_partition(), '') == 1:\n",
    "    solar_energy_consumption_df=spark.read.csv(RAW_TAB_LOCATION+'solar-energy-consumption/'+get_partition(), header=True)\n",
    "\n",
    "    solar_energy_consumption_df=solar_energy_consumption_df \\\n",
    "              .withColumnRenamed(\"Solar PV Consumption (Terawatt-hours)\",'consumption') \\\n",
    "              .withColumn('Year', f.col('Year').cast(IntegerType())) \\\n",
    "              .withColumn('consumption', f.col('consumption').cast(FloatType())) \n",
    "    \n",
    "    write_s3_file(solar_energy_consumption_df, CURATED_TAB_LOCATION, 'solar_energy_consumption', PARTITION, uid=None)\n",
    "    append_path_to_list(s3pathlist, CURATED_TAB_LOCATION, 'solar_energy_consumption') \n",
    "    #print(s3pathlist)\n",
    "    #solar_energy_consumption_df.printSchema()\n",
    "    #solar_energy_consumption_df.show(5)"
   ]
  },
  {
   "cell_type": "code",
   "execution_count": 15,
   "metadata": {},
   "outputs": [
    {
     "data": {
      "application/vnd.jupyter.widget-view+json": {
       "model_id": "",
       "version_major": 2,
       "version_minor": 0
      },
      "text/plain": [
       "FloatProgress(value=0.0, bar_style='info', description='Progress:', layout=Layout(height='25px', width='50%'),…"
      ]
     },
     "metadata": {},
     "output_type": "display_data"
    }
   ],
   "source": [
    "if does_s3key_exist(RAW_BUCKET, RAW_TAB_PREFIX+'wind-energy-consumption-terawatt-hours-twh/'+get_partition(), '') == 1:\n",
    "    wind_energy_consumption_df=spark.read.csv(RAW_TAB_LOCATION+'wind-energy-consumption-terawatt-hours-twh/'+get_partition(), header=True)\n",
    "\n",
    "    wind_energy_consumption_df=wind_energy_consumption_df \\\n",
    "              .withColumnRenamed(\"Wind energy consumption (Terawatt-hours)\",'consumption') \\\n",
    "              .withColumn('Year', f.col('Year').cast(IntegerType())) \\\n",
    "              .withColumn('consumption', f.col('consumption').cast(FloatType())) \n",
    "    \n",
    "    write_s3_file(wind_energy_consumption_df, CURATED_TAB_LOCATION, 'wind_energy_consumption', PARTITION, uid=None)\n",
    "    append_path_to_list(s3pathlist, CURATED_TAB_LOCATION, 'wind_energy_consumption') \n",
    "    #print(s3pathlist)\n",
    "    #wind_energy_consumption_df.printSchema()\n",
    "    #wind_energy_consumption_df.show(5)"
   ]
  },
  {
   "cell_type": "code",
   "execution_count": null,
   "metadata": {},
   "outputs": [],
   "source": [
    "# -------------------------------------------------------------------------\n",
    "# Crawl tables\n",
    "# -------------------------------------------------------------------------\n",
    "\n",
    "try:\n",
    "    create_crawler(client, CRAWLER_NAME, CRAWLER_ARN, RAW_DATABASE)\n",
    "    update_crawler(client, CRAWLER_NAME, s3pathlist)\n",
    "    start_crawler(client, CRAWLER_NAME)\n",
    "    delete_crawler(client, CRAWLER_NAME)\n",
    "    append_log(log, str(datetime.datetime.now()), 'Crawling of tables : ','SUCCESS')\n",
    "except Exception as e:\n",
    "    if INTERACTIVE:\n",
    "        delete_crawler(client, CRAWLER_NAME)\n",
    "        raise e\n",
    "    else:\n",
    "        delete_crawler(client, CRAWLER_NAME)\n",
    "        raise e\n"
   ]
  },
  {
   "cell_type": "code",
   "execution_count": null,
   "metadata": {},
   "outputs": [],
   "source": []
  }
 ],
 "metadata": {
  "kernelspec": {
   "display_name": "Sparkmagic (PySpark)",
   "language": "",
   "name": "pysparkkernel"
  },
  "language_info": {
   "codemirror_mode": {
    "name": "python",
    "version": 3
   },
   "mimetype": "text/x-python",
   "name": "pyspark",
   "pygments_lexer": "python3"
  }
 },
 "nbformat": 4,
 "nbformat_minor": 2
}
